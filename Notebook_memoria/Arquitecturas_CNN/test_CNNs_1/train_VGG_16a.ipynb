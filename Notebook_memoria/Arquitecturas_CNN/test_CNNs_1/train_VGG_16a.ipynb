{
 "cells": [
  {
   "cell_type": "code",
   "execution_count": null,
   "metadata": {},
   "outputs": [],
   "source": [
    "import numpy as np\n",
    "import matplotlib.pyplot as plt\n",
    "\n",
    "from tensorflow.keras import layers, models, optimizers\n",
    "from keras.callbacks import EarlyStopping\n",
    "\n",
    "from sklearn.metrics import classification_report"
   ]
  },
  {
   "cell_type": "code",
   "execution_count": null,
   "metadata": {},
   "outputs": [],
   "source": [
    "def show_result(test1):\n",
    "    # Mostrar los resultados\n",
    "    fig, ax = plt.subplots(2,1,figsize=(6,3))\n",
    "    ax[0].plot(test1.history['loss'], color='b', label=\"Training loss\")\n",
    "    ax[0].plot(test1.history['val_loss'], color='r', label=\"validation loss\")\n",
    "    legend = ax[0].legend(loc='best', shadow=True)\n",
    "    ax[0].grid()\n",
    "\n",
    "    ax[1].plot(test1.history['accuracy'], color='b', label=\"Training accuracy\")\n",
    "    ax[1].plot(test1.history['val_accuracy'], color='r',label=\"Validation accuracy\")\n",
    "    ax[1].set_ylim(0,1)\n",
    "    legend = ax[1].legend(loc='best', shadow=True)\n",
    "    ax[1].grid()\n",
    "\n",
    "    plt.tight_layout()\n",
    "    plt.show()"
   ]
  },
  {
   "cell_type": "code",
   "execution_count": null,
   "metadata": {},
   "outputs": [],
   "source": [
    "# Cargar los datasets\n",
    "feat_train = np.load('../0_training_datasets/feat_train.npy')\n",
    "label_train = np.load('../0_training_datasets/label_train.npy')\n",
    "feat_val = np.load('../0_training_datasets/feat_val.npy')\n",
    "label_val = np.load('../0_training_datasets/label_val.npy')\n"
   ]
  },
  {
   "cell_type": "code",
   "execution_count": null,
   "metadata": {},
   "outputs": [],
   "source": [
    "## Estructura \n",
    "inputs = layers.Input(shape=(128, 141, 1))\n",
    "\n",
    "### VGG-16\n",
    "\n",
    "# Bloque 1\n",
    "x = layers.Conv2D(64, (3, 3), activation='relu', padding='same')(inputs)\n",
    "x = layers.Conv2D(64, (3, 3), activation='relu', padding='same')(x)\n",
    "x = layers.MaxPooling2D((2, 2))(x)\n",
    "\n",
    "# Bloque 2\n",
    "x = layers.Conv2D(128, (3, 3), activation='relu', padding='same')(x)\n",
    "x = layers.Conv2D(128, (3, 3), activation='relu', padding='same')(x)\n",
    "x = layers.MaxPooling2D((2, 2))(x)\n",
    "\n",
    "# Bloque 3\n",
    "x = layers.Conv2D(256, (3, 3), activation='relu', padding='same')(x)\n",
    "x = layers.Conv2D(256, (3, 3), activation='relu', padding='same')(x)\n",
    "x = layers.Conv2D(256, (3, 3), activation='relu', padding='same')(x)\n",
    "x = layers.MaxPooling2D((2, 2))(x)\n",
    "\n",
    "# Bloque 4\n",
    "x = layers.Conv2D(512, (3, 3), activation='relu', padding='same')(x)\n",
    "x = layers.Conv2D(512, (3, 3), activation='relu', padding='same')(x)\n",
    "x = layers.Conv2D(512, (3, 3), activation='relu', padding='same')(x)\n",
    "x = layers.MaxPooling2D((2, 2))(x)\n",
    "\n",
    "# Bloque 5\n",
    "x = layers.Conv2D(512, (3, 3), activation='relu', padding='same')(x)\n",
    "x = layers.Conv2D(512, (3, 3), activation='relu', padding='same')(x)\n",
    "x = layers.Conv2D(512, (3, 3), activation='relu', padding='same')(x)\n",
    "x = layers.MaxPooling2D((2, 2))(x)\n",
    "\n",
    "# Capas densas\n",
    "x = layers.Flatten()(x)\n",
    "x = layers.Dense(4096, activation='relu')(x)\n",
    "x = layers.Dense(4096, activation='relu')(x)\n",
    "outputs = layers.Dense(4, activation='softmax')(x)  # Adaptar para el número de clases en tu problema\n",
    "\n",
    "VGG16 = models.Model(inputs, outputs, name='VGG16')\n",
    "\n",
    "# Resumen del modelo\n",
    "VGG16.summary()\n"
   ]
  },
  {
   "cell_type": "code",
   "execution_count": null,
   "metadata": {},
   "outputs": [],
   "source": [
    "# Define el optimizador y compila el modelo\n",
    "optimizer = optimizers.Adam(learning_rate=0.0001)\n",
    "VGG16.compile(optimizer=optimizer, loss=\"categorical_crossentropy\", metrics=[\"accuracy\"])"
   ]
  },
  {
   "cell_type": "code",
   "execution_count": null,
   "metadata": {},
   "outputs": [],
   "source": [
    "early_stopping = EarlyStopping(monitor='val_loss', patience=5, restore_best_weights=True)"
   ]
  },
  {
   "cell_type": "code",
   "execution_count": null,
   "metadata": {},
   "outputs": [],
   "source": [
    "# Entrena el modelo\n",
    "history = VGG16.fit(feat_train, label_train,\n",
    "                   batch_size=32, epochs=50,\n",
    "                   validation_data=(feat_val, label_val),\n",
    "                   verbose=1,\n",
    "                   callbacks=[early_stopping]\n",
    "                   )\n",
    "\n",
    "test_loss, test_acc = VGG16.evaluate(feat_val, label_val, verbose=2)\n"
   ]
  },
  {
   "cell_type": "code",
   "execution_count": null,
   "metadata": {},
   "outputs": [],
   "source": [
    "show_result(history)\n",
    "# Haz predicciones en el conjunto de validación\n",
    "y_pred = VGG16.predict(feat_val)\n",
    "\n",
    "# Convierte las predicciones a etiquetas de clase\n",
    "y_pred_classes = np.argmax(y_pred, axis=1)\n",
    "y_true_classes = np.argmax(label_val, axis=1)\n",
    "\n",
    "# Calcula precision, recall, y F1-score\n",
    "report = classification_report(y_true_classes, y_pred_classes, target_names=['Paisaje', 'Avion', 'Motor', 'Voces'])\n",
    "print(report)"
   ]
  },
  {
   "cell_type": "code",
   "execution_count": null,
   "metadata": {},
   "outputs": [],
   "source": [
    "# VGG16.save(\"VGG16_a\")"
   ]
  }
 ],
 "metadata": {
  "kernelspec": {
   "display_name": "Python 3",
   "language": "python",
   "name": "python3"
  },
  "language_info": {
   "codemirror_mode": {
    "name": "ipython",
    "version": 3
   },
   "file_extension": ".py",
   "mimetype": "text/x-python",
   "name": "python",
   "nbconvert_exporter": "python",
   "pygments_lexer": "ipython3",
   "version": "3.10.11"
  }
 },
 "nbformat": 4,
 "nbformat_minor": 2
}
